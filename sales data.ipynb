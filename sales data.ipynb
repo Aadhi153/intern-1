{
 "cells": [
  {
   "cell_type": "code",
   "execution_count": 1,
   "id": "0a876200-77bc-4d49-bfeb-724b6e99a0fb",
   "metadata": {},
   "outputs": [],
   "source": [
    "import numpy as np\n",
    "import pandas as pd"
   ]
  },
  {
   "cell_type": "code",
   "execution_count": 2,
   "id": "518fb08e-f865-4087-b5d1-6ae1256ff5a3",
   "metadata": {},
   "outputs": [],
   "source": [
    "sales = pd.read_csv('sales_data_sample.csv',encoding='latin1')"
   ]
  },
  {
   "cell_type": "code",
   "execution_count": 3,
   "id": "7fa27aa3-6af2-4c71-ae07-36437731eb85",
   "metadata": {},
   "outputs": [
    {
     "name": "stdout",
     "output_type": "stream",
     "text": [
      "<class 'pandas.core.frame.DataFrame'>\n",
      "RangeIndex: 2823 entries, 0 to 2822\n",
      "Data columns (total 25 columns):\n",
      " #   Column            Non-Null Count  Dtype  \n",
      "---  ------            --------------  -----  \n",
      " 0   ORDERNUMBER       2823 non-null   int64  \n",
      " 1   QUANTITYORDERED   2823 non-null   int64  \n",
      " 2   PRICEEACH         2823 non-null   float64\n",
      " 3   ORDERLINENUMBER   2823 non-null   int64  \n",
      " 4   SALES             2823 non-null   float64\n",
      " 5   ORDERDATE         2823 non-null   object \n",
      " 6   STATUS            2823 non-null   object \n",
      " 7   QTR_ID            2823 non-null   int64  \n",
      " 8   MONTH_ID          2823 non-null   int64  \n",
      " 9   YEAR_ID           2823 non-null   int64  \n",
      " 10  PRODUCTLINE       2823 non-null   object \n",
      " 11  MSRP              2823 non-null   int64  \n",
      " 12  PRODUCTCODE       2823 non-null   object \n",
      " 13  CUSTOMERNAME      2823 non-null   object \n",
      " 14  PHONE             2823 non-null   object \n",
      " 15  ADDRESSLINE1      2823 non-null   object \n",
      " 16  ADDRESSLINE2      302 non-null    object \n",
      " 17  CITY              2823 non-null   object \n",
      " 18  STATE             1337 non-null   object \n",
      " 19  POSTALCODE        2747 non-null   object \n",
      " 20  COUNTRY           2823 non-null   object \n",
      " 21  TERRITORY         1749 non-null   object \n",
      " 22  CONTACTLASTNAME   2823 non-null   object \n",
      " 23  CONTACTFIRSTNAME  2823 non-null   object \n",
      " 24  DEALSIZE          2823 non-null   object \n",
      "dtypes: float64(2), int64(7), object(16)\n",
      "memory usage: 551.5+ KB\n",
      "None\n"
     ]
    }
   ],
   "source": [
    "print(sales.info())"
   ]
  },
  {
   "cell_type": "code",
   "execution_count": 4,
   "id": "9b587bf2-1c7d-4718-8b16-2ce143b07939",
   "metadata": {},
   "outputs": [
    {
     "name": "stdout",
     "output_type": "stream",
     "text": [
      "ORDERNUMBER            0\n",
      "QUANTITYORDERED        0\n",
      "PRICEEACH              0\n",
      "ORDERLINENUMBER        0\n",
      "SALES                  0\n",
      "ORDERDATE              0\n",
      "STATUS                 0\n",
      "QTR_ID                 0\n",
      "MONTH_ID               0\n",
      "YEAR_ID                0\n",
      "PRODUCTLINE            0\n",
      "MSRP                   0\n",
      "PRODUCTCODE            0\n",
      "CUSTOMERNAME           0\n",
      "PHONE                  0\n",
      "ADDRESSLINE1           0\n",
      "ADDRESSLINE2        2521\n",
      "CITY                   0\n",
      "STATE               1486\n",
      "POSTALCODE            76\n",
      "COUNTRY                0\n",
      "TERRITORY           1074\n",
      "CONTACTLASTNAME        0\n",
      "CONTACTFIRSTNAME       0\n",
      "DEALSIZE               0\n",
      "dtype: int64\n"
     ]
    }
   ],
   "source": [
    "print(sales.isnull().sum())"
   ]
  },
  {
   "cell_type": "code",
   "execution_count": 5,
   "id": "db00c60d-4153-40f0-b4b9-059010d60ac9",
   "metadata": {},
   "outputs": [],
   "source": [
    "sales.fillna({\n",
    "    'ADDRESSLINE2': '',\n",
    "    'STATE': 'Unknown',\n",
    "    'TERRITORY': 'Unknown',\n",
    "    'POSTALCODE': 'Unknown'\n",
    "}, inplace=True)"
   ]
  },
  {
   "cell_type": "code",
   "execution_count": 6,
   "id": "a3faf42d-a3d7-436e-8e8a-5948271d962a",
   "metadata": {},
   "outputs": [],
   "source": [
    "# Drop rows with too many missing values\n",
    "\n",
    "sales.dropna(thresh=3, inplace=True)"
   ]
  },
  {
   "cell_type": "code",
   "execution_count": 7,
   "id": "1082fd1d-cd1c-476e-a1ce-abfc84a93873",
   "metadata": {},
   "outputs": [],
   "source": [
    "sales.drop_duplicates(inplace=True)"
   ]
  },
  {
   "cell_type": "code",
   "execution_count": 8,
   "id": "22c11ae7-d008-492f-8094-9964cb4a5777",
   "metadata": {},
   "outputs": [],
   "source": [
    "for col in sales.select_dtypes(include='object').columns:\n",
    "    sales[col] = sales[col].astype(str).str.strip().str.title()"
   ]
  },
  {
   "cell_type": "code",
   "execution_count": 9,
   "id": "7a47a3db-6856-41f7-a3d3-5a4ce8fe8a03",
   "metadata": {},
   "outputs": [],
   "source": [
    "if 'ORDERDATE' in sales.columns:\n",
    "    sales['ORDERDATE'] = pd.to_datetime(sales['ORDERDATE'], errors='coerce')\n",
    "    sales['ORDERDATE'] = sales['ORDERDATE'].dt.strftime('%d-%m-%Y')"
   ]
  },
  {
   "cell_type": "code",
   "execution_count": 10,
   "id": "37c31dd2-c279-446f-a914-613f9b538558",
   "metadata": {},
   "outputs": [],
   "source": [
    "sales.columns = sales.columns.str.lower().str.replace(' ', '_')"
   ]
  },
  {
   "cell_type": "code",
   "execution_count": 11,
   "id": "f20ccf0c-c1dc-471a-96f6-c553f38a03df",
   "metadata": {},
   "outputs": [],
   "source": [
    "numeric_cols = ['quantityordered', 'priceeach', 'sales', 'orderlinenumber']\n",
    "for col in numeric_cols:\n",
    "    if col in sales.columns:\n",
    "        sales[col] = pd.to_numeric(sales[col], errors='coerce')"
   ]
  },
  {
   "cell_type": "code",
   "execution_count": 13,
   "id": "f572c9b9-a84c-4cb4-983a-99cbd44cc794",
   "metadata": {},
   "outputs": [
    {
     "name": "stdout",
     "output_type": "stream",
     "text": [
      "\n",
      "✅ Cleaned Sales Dataset:\n",
      "   ordernumber  quantityordered  priceeach  orderlinenumber    sales  \\\n",
      "0        10107               30      95.70                2  2871.00   \n",
      "1        10121               34      81.35                5  2765.90   \n",
      "2        10134               41      94.74                2  3884.34   \n",
      "3        10145               45      83.26                6  3746.70   \n",
      "4        10159               49     100.00               14  5205.27   \n",
      "\n",
      "    orderdate   status  qtr_id  month_id  year_id  ...  \\\n",
      "0  24-02-2003  Shipped       1         2     2003  ...   \n",
      "1  07-05-2003  Shipped       2         5     2003  ...   \n",
      "2  01-07-2003  Shipped       3         7     2003  ...   \n",
      "3  25-08-2003  Shipped       3         8     2003  ...   \n",
      "4  10-10-2003  Shipped       4        10     2003  ...   \n",
      "\n",
      "                    addressline1  addressline2           city    state  \\\n",
      "0        897 Long Airport Avenue                          Nyc       Ny   \n",
      "1             59 Rue De L'Abbaye                        Reims  Unknown   \n",
      "2  27 Rue Du Colonel Pierre Avia                        Paris  Unknown   \n",
      "3             78934 Hillside Dr.                     Pasadena       Ca   \n",
      "4                7734 Strong St.                San Francisco       Ca   \n",
      "\n",
      "  postalcode country territory contactlastname contactfirstname dealsize  \n",
      "0      10022     Usa   Unknown              Yu             Kwai    Small  \n",
      "1      51100  France      Emea         Henriot             Paul    Small  \n",
      "2      75508  France      Emea        Da Cunha           Daniel   Medium  \n",
      "3      90003     Usa   Unknown           Young            Julie   Medium  \n",
      "4    Unknown     Usa   Unknown           Brown            Julie   Medium  \n",
      "\n",
      "[5 rows x 25 columns]\n"
     ]
    }
   ],
   "source": [
    "print(\"\\n✅ Cleaned Sales Dataset:\")\n",
    "print(sales.head())"
   ]
  },
  {
   "cell_type": "code",
   "execution_count": 14,
   "id": "981fb950-b09a-4a50-904d-f05b830b4231",
   "metadata": {},
   "outputs": [],
   "source": [
    "sales.to_csv(\"cleaned_sales_data.csv\", index=False)"
   ]
  },
  {
   "cell_type": "code",
   "execution_count": 16,
   "id": "7c2c6a1d-fcd2-4137-9efa-e4c61a042586",
   "metadata": {},
   "outputs": [
    {
     "name": "stdout",
     "output_type": "stream",
     "text": [
      "ordernumber         0\n",
      "quantityordered     0\n",
      "priceeach           0\n",
      "orderlinenumber     0\n",
      "sales               0\n",
      "orderdate           0\n",
      "status              0\n",
      "qtr_id              0\n",
      "month_id            0\n",
      "year_id             0\n",
      "productline         0\n",
      "msrp                0\n",
      "productcode         0\n",
      "customername        0\n",
      "phone               0\n",
      "addressline1        0\n",
      "addressline2        0\n",
      "city                0\n",
      "state               0\n",
      "postalcode          0\n",
      "country             0\n",
      "territory           0\n",
      "contactlastname     0\n",
      "contactfirstname    0\n",
      "dealsize            0\n",
      "dtype: int64\n"
     ]
    }
   ],
   "source": [
    "print(sales.isnull().sum())"
   ]
  },
  {
   "cell_type": "code",
   "execution_count": null,
   "id": "c55dbea0-a885-4b71-9730-d7b58eb29866",
   "metadata": {},
   "outputs": [],
   "source": []
  }
 ],
 "metadata": {
  "kernelspec": {
   "display_name": "Python 3 (ipykernel)",
   "language": "python",
   "name": "python3"
  },
  "language_info": {
   "codemirror_mode": {
    "name": "ipython",
    "version": 3
   },
   "file_extension": ".py",
   "mimetype": "text/x-python",
   "name": "python",
   "nbconvert_exporter": "python",
   "pygments_lexer": "ipython3",
   "version": "3.12.10"
  }
 },
 "nbformat": 4,
 "nbformat_minor": 5
}
